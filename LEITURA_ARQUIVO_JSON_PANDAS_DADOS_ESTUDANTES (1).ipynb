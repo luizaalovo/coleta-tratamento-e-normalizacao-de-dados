{
  "cells": [
    {
      "cell_type": "markdown",
      "metadata": {
        "id": "tDp_PeDVRlAC"
      },
      "source": [
        "# IMPORTAÇÃO DAS BIBLIOTECAS"
      ]
    },
    {
      "cell_type": "code",
      "execution_count": null,
      "metadata": {
        "id": "m7vtlpXMReiu"
      },
      "outputs": [],
      "source": [
        "import pandas as pd"
      ]
    },
    {
      "cell_type": "markdown",
      "metadata": {
        "id": "T-zsoTD3Sa-m"
      },
      "source": [
        "# DEFINIÇÃO DAS VARIÁVEIS"
      ]
    },
    {
      "cell_type": "code",
      "execution_count": null,
      "metadata": {
        "id": "RO3IeXNESbju"
      },
      "outputs": [],
      "source": [
        "arquivo = 'DADOS_ESTUDANTES.json'"
      ]
    },
    {
      "cell_type": "markdown",
      "metadata": {
        "id": "sLxP_LkJRsdn"
      },
      "source": [
        "# LEITURA DO ARQUIVO JSON USANDO PANDAS"
      ]
    },
    {
      "cell_type": "code",
      "execution_count": null,
      "metadata": {
        "id": "b3aQ3q2yRrN5"
      },
      "outputs": [],
      "source": [
        "# Lê o conteúdo do arquivo JSON\n",
        "try:\n",
        "  with open(arquivo, \"r\", encoding=\"UTF-8\") as file:\n",
        "      json_content = file.read()\n",
        "except UnicodeDecodeError:\n",
        "  with open(arquivo, \"r\", encoding=\"Latin-1\") as file:\n",
        "      json_content = file.read()\n",
        "\n",
        "# Remove as quebras de linha (\\n)\n",
        "json_content = json_content.replace(\"\\n\", \"\")\n",
        "\n",
        "# Cria um dataframe Pandas com o conteúdo dos dados\n",
        "df = pd.read_json(json_content)"
      ]
    },
    {
      "cell_type": "markdown",
      "metadata": {
        "id": "_1VcZZaTR0TU"
      },
      "source": [
        "# EXIBINDO OS METADADOS (SCHEMA) DO ARQUIVO"
      ]
    },
    {
      "cell_type": "code",
      "execution_count": null,
      "metadata": {
        "id": "OUeo2S_8R0jO"
      },
      "outputs": [],
      "source": [
        "df.head(5)"
      ]
    },
    {
      "cell_type": "markdown",
      "metadata": {
        "id": "ULMHWxihl961"
      },
      "source": [
        "# EXIBINDO OS METADADOS (SCHEMA) DO ARQUIVO"
      ]
    },
    {
      "cell_type": "code",
      "execution_count": null,
      "metadata": {
        "id": "gMQSeec7TbKV"
      },
      "outputs": [],
      "source": [
        "df.info()"
      ]
    },
    {
      "cell_type": "markdown",
      "metadata": {
        "id": "n9eqEBLSYzsb"
      },
      "source": [
        "# AJUSTAR O SCHEMA DOS DADOS, SE NECESSÁRIO"
      ]
    },
    {
      "cell_type": "markdown",
      "metadata": {
        "id": "kVtuiTN1Yzsb"
      },
      "source": []
    }
  ],
  "metadata": {
    "colab": {
      "provenance": []
    },
    "kernelspec": {
      "display_name": "Python 3",
      "name": "python3"
    },
    "language_info": {
      "codemirror_mode": {
        "name": "ipython",
        "version": 3
      },
      "file_extension": ".py",
      "mimetype": "text/x-python",
      "name": "python",
      "nbconvert_exporter": "python",
      "pygments_lexer": "ipython3",
      "version": "3.12.0"
    }
  },
  "nbformat": 4,
  "nbformat_minor": 0
}