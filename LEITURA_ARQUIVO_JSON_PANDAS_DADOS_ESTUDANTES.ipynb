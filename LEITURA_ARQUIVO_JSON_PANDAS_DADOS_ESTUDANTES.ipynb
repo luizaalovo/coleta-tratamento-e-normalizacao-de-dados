{
  "cells": [
    {
      "cell_type": "markdown",
      "metadata": {
        "id": "tDp_PeDVRlAC"
      },
      "source": [
        "# IMPORTAÇÃO DAS BIBLIOTECAS"
      ]
    },
    {
      "cell_type": "code",
      "execution_count": null,
      "metadata": {
        "id": "m7vtlpXMReiu"
      },
      "outputs": [],
      "source": [
        "import pandas as pd"
      ]
    },
    {
      "cell_type": "markdown",
      "metadata": {
        "id": "T-zsoTD3Sa-m"
      },
      "source": [
        "# DEFINIÇÃO DAS VARIÁVEIS"
      ]
    },
    {
      "cell_type": "code",
      "execution_count": null,
      "metadata": {
        "id": "RO3IeXNESbju",
        "colab": {
          "base_uri": "https://localhost:8080/"
        },
        "outputId": "36ac963a-ec86-42e3-fde3-4da54e116d76"
      },
      "outputs": [
        {
          "output_type": "stream",
          "name": "stdout",
          "text": [
            "Mounted at /content/drive\n"
          ]
        }
      ],
      "source": [
        "from google.colab import drive\n",
        "drive.mount('/content/drive')"
      ]
    },
    {
      "cell_type": "code",
      "source": [
        "arquivo = '/content/drive/My Drive/ARQ/DADOS_ESTUDANTES.json'"
      ],
      "metadata": {
        "id": "DrFH09_Wxso8"
      },
      "execution_count": null,
      "outputs": []
    },
    {
      "cell_type": "markdown",
      "metadata": {
        "id": "sLxP_LkJRsdn"
      },
      "source": [
        "# LEITURA DO ARQUIVO JSON USANDO PANDAS"
      ]
    },
    {
      "cell_type": "code",
      "execution_count": null,
      "metadata": {
        "id": "b3aQ3q2yRrN5",
        "colab": {
          "base_uri": "https://localhost:8080/"
        },
        "outputId": "a149feb9-607b-43b4-94ef-a580499d04cc"
      },
      "outputs": [
        {
          "output_type": "stream",
          "name": "stderr",
          "text": [
            "<ipython-input-4-18d5f335b0c7>:13: FutureWarning: Passing literal json to 'read_json' is deprecated and will be removed in a future version. To read from a literal string, wrap it in a 'StringIO' object.\n",
            "  df = pd.read_json(json_content)\n"
          ]
        }
      ],
      "source": [
        "# Lê o conteúdo do arquivo JSON\n",
        "try:\n",
        "  with open(arquivo, \"r\", encoding=\"UTF-8\") as file:\n",
        "      json_content = file.read()\n",
        "except UnicodeDecodeError:\n",
        "  with open(arquivo, \"r\", encoding=\"Latin-1\") as file:\n",
        "      json_content = file.read()\n",
        "\n",
        "# Remove as quebras de linha (\\n)\n",
        "json_content = json_content.replace(\"\\n\", \"\")\n",
        "\n",
        "# Cria um dataframe Pandas com o conteúdo dos dados\n",
        "df = pd.read_json(json_content)"
      ]
    },
    {
      "cell_type": "markdown",
      "metadata": {
        "id": "_1VcZZaTR0TU"
      },
      "source": [
        "# EXIBINDO OS METADADOS (SCHEMA) DO ARQUIVO"
      ]
    },
    {
      "cell_type": "code",
      "execution_count": null,
      "metadata": {
        "id": "OUeo2S_8R0jO",
        "colab": {
          "base_uri": "https://localhost:8080/",
          "height": 310
        },
        "outputId": "d2591363-215f-4aba-c8c8-b8fef513b544"
      },
      "outputs": [
        {
          "output_type": "execute_result",
          "data": {
            "text/plain": [
              "   Matrícula                Nome                Curso       Sexo  \\\n",
              "0       4779       Kevin Freitas          Estatística  Masculino   \n",
              "1       4716   Rafaela das Neves       Jogos Digitais   Feminino   \n",
              "2       6986      Milena Pereira        Administração   Feminino   \n",
              "3       2193  Alexandre Monteiro       Jogos Digitais   Feminino   \n",
              "4       2258          Ian Farias  Engenharia de Dados   Feminino   \n",
              "\n",
              "  Data de Ingresso        Telefone                  Endereço Bolsista  \\\n",
              "0       27/03/2020  (450) 815-8031  Vila de da Conceição, 92      Sim   \n",
              "1       13/09/2018  (580) 593-6152        Parque Correia, 64      Sim   \n",
              "2       02/04/2022  (518) 361-5699           Chácara Azevedo      Não   \n",
              "3       24/06/2022  (337) 844-2084          Largo Nunes, 853      Não   \n",
              "4       22/06/2020  (422) 260-3970          Recanto Pires, 1      Sim   \n",
              "\n",
              "  Previsão de Formatura  Média de Notas  \\\n",
              "0            27/03/2023           62.63   \n",
              "1            13/09/2021           92.35   \n",
              "2            02/04/2024           79.71   \n",
              "3            24/06/2026           18.09   \n",
              "4            22/06/2023           18.01   \n",
              "\n",
              "                                     Email  \n",
              "0       kevin.freitas@faculdadeaula.com.br  \n",
              "1   rafaela.das.neves@faculdadeaula.com.br  \n",
              "2      milena.pereira@faculdadeaula.com.br  \n",
              "3  alexandre.monteiro@faculdadeaula.com.br  \n",
              "4          ian.farias@faculdadeaula.com.br  "
            ],
            "text/html": [
              "\n",
              "  <div id=\"df-4c6f78c2-2369-4334-a84b-411545fb0b2a\" class=\"colab-df-container\">\n",
              "    <div>\n",
              "<style scoped>\n",
              "    .dataframe tbody tr th:only-of-type {\n",
              "        vertical-align: middle;\n",
              "    }\n",
              "\n",
              "    .dataframe tbody tr th {\n",
              "        vertical-align: top;\n",
              "    }\n",
              "\n",
              "    .dataframe thead th {\n",
              "        text-align: right;\n",
              "    }\n",
              "</style>\n",
              "<table border=\"1\" class=\"dataframe\">\n",
              "  <thead>\n",
              "    <tr style=\"text-align: right;\">\n",
              "      <th></th>\n",
              "      <th>Matrícula</th>\n",
              "      <th>Nome</th>\n",
              "      <th>Curso</th>\n",
              "      <th>Sexo</th>\n",
              "      <th>Data de Ingresso</th>\n",
              "      <th>Telefone</th>\n",
              "      <th>Endereço</th>\n",
              "      <th>Bolsista</th>\n",
              "      <th>Previsão de Formatura</th>\n",
              "      <th>Média de Notas</th>\n",
              "      <th>Email</th>\n",
              "    </tr>\n",
              "  </thead>\n",
              "  <tbody>\n",
              "    <tr>\n",
              "      <th>0</th>\n",
              "      <td>4779</td>\n",
              "      <td>Kevin Freitas</td>\n",
              "      <td>Estatística</td>\n",
              "      <td>Masculino</td>\n",
              "      <td>27/03/2020</td>\n",
              "      <td>(450) 815-8031</td>\n",
              "      <td>Vila de da Conceição, 92</td>\n",
              "      <td>Sim</td>\n",
              "      <td>27/03/2023</td>\n",
              "      <td>62.63</td>\n",
              "      <td>kevin.freitas@faculdadeaula.com.br</td>\n",
              "    </tr>\n",
              "    <tr>\n",
              "      <th>1</th>\n",
              "      <td>4716</td>\n",
              "      <td>Rafaela das Neves</td>\n",
              "      <td>Jogos Digitais</td>\n",
              "      <td>Feminino</td>\n",
              "      <td>13/09/2018</td>\n",
              "      <td>(580) 593-6152</td>\n",
              "      <td>Parque Correia, 64</td>\n",
              "      <td>Sim</td>\n",
              "      <td>13/09/2021</td>\n",
              "      <td>92.35</td>\n",
              "      <td>rafaela.das.neves@faculdadeaula.com.br</td>\n",
              "    </tr>\n",
              "    <tr>\n",
              "      <th>2</th>\n",
              "      <td>6986</td>\n",
              "      <td>Milena Pereira</td>\n",
              "      <td>Administração</td>\n",
              "      <td>Feminino</td>\n",
              "      <td>02/04/2022</td>\n",
              "      <td>(518) 361-5699</td>\n",
              "      <td>Chácara Azevedo</td>\n",
              "      <td>Não</td>\n",
              "      <td>02/04/2024</td>\n",
              "      <td>79.71</td>\n",
              "      <td>milena.pereira@faculdadeaula.com.br</td>\n",
              "    </tr>\n",
              "    <tr>\n",
              "      <th>3</th>\n",
              "      <td>2193</td>\n",
              "      <td>Alexandre Monteiro</td>\n",
              "      <td>Jogos Digitais</td>\n",
              "      <td>Feminino</td>\n",
              "      <td>24/06/2022</td>\n",
              "      <td>(337) 844-2084</td>\n",
              "      <td>Largo Nunes, 853</td>\n",
              "      <td>Não</td>\n",
              "      <td>24/06/2026</td>\n",
              "      <td>18.09</td>\n",
              "      <td>alexandre.monteiro@faculdadeaula.com.br</td>\n",
              "    </tr>\n",
              "    <tr>\n",
              "      <th>4</th>\n",
              "      <td>2258</td>\n",
              "      <td>Ian Farias</td>\n",
              "      <td>Engenharia de Dados</td>\n",
              "      <td>Feminino</td>\n",
              "      <td>22/06/2020</td>\n",
              "      <td>(422) 260-3970</td>\n",
              "      <td>Recanto Pires, 1</td>\n",
              "      <td>Sim</td>\n",
              "      <td>22/06/2023</td>\n",
              "      <td>18.01</td>\n",
              "      <td>ian.farias@faculdadeaula.com.br</td>\n",
              "    </tr>\n",
              "  </tbody>\n",
              "</table>\n",
              "</div>\n",
              "    <div class=\"colab-df-buttons\">\n",
              "\n",
              "  <div class=\"colab-df-container\">\n",
              "    <button class=\"colab-df-convert\" onclick=\"convertToInteractive('df-4c6f78c2-2369-4334-a84b-411545fb0b2a')\"\n",
              "            title=\"Convert this dataframe to an interactive table.\"\n",
              "            style=\"display:none;\">\n",
              "\n",
              "  <svg xmlns=\"http://www.w3.org/2000/svg\" height=\"24px\" viewBox=\"0 -960 960 960\">\n",
              "    <path d=\"M120-120v-720h720v720H120Zm60-500h600v-160H180v160Zm220 220h160v-160H400v160Zm0 220h160v-160H400v160ZM180-400h160v-160H180v160Zm440 0h160v-160H620v160ZM180-180h160v-160H180v160Zm440 0h160v-160H620v160Z\"/>\n",
              "  </svg>\n",
              "    </button>\n",
              "\n",
              "  <style>\n",
              "    .colab-df-container {\n",
              "      display:flex;\n",
              "      gap: 12px;\n",
              "    }\n",
              "\n",
              "    .colab-df-convert {\n",
              "      background-color: #E8F0FE;\n",
              "      border: none;\n",
              "      border-radius: 50%;\n",
              "      cursor: pointer;\n",
              "      display: none;\n",
              "      fill: #1967D2;\n",
              "      height: 32px;\n",
              "      padding: 0 0 0 0;\n",
              "      width: 32px;\n",
              "    }\n",
              "\n",
              "    .colab-df-convert:hover {\n",
              "      background-color: #E2EBFA;\n",
              "      box-shadow: 0px 1px 2px rgba(60, 64, 67, 0.3), 0px 1px 3px 1px rgba(60, 64, 67, 0.15);\n",
              "      fill: #174EA6;\n",
              "    }\n",
              "\n",
              "    .colab-df-buttons div {\n",
              "      margin-bottom: 4px;\n",
              "    }\n",
              "\n",
              "    [theme=dark] .colab-df-convert {\n",
              "      background-color: #3B4455;\n",
              "      fill: #D2E3FC;\n",
              "    }\n",
              "\n",
              "    [theme=dark] .colab-df-convert:hover {\n",
              "      background-color: #434B5C;\n",
              "      box-shadow: 0px 1px 3px 1px rgba(0, 0, 0, 0.15);\n",
              "      filter: drop-shadow(0px 1px 2px rgba(0, 0, 0, 0.3));\n",
              "      fill: #FFFFFF;\n",
              "    }\n",
              "  </style>\n",
              "\n",
              "    <script>\n",
              "      const buttonEl =\n",
              "        document.querySelector('#df-4c6f78c2-2369-4334-a84b-411545fb0b2a button.colab-df-convert');\n",
              "      buttonEl.style.display =\n",
              "        google.colab.kernel.accessAllowed ? 'block' : 'none';\n",
              "\n",
              "      async function convertToInteractive(key) {\n",
              "        const element = document.querySelector('#df-4c6f78c2-2369-4334-a84b-411545fb0b2a');\n",
              "        const dataTable =\n",
              "          await google.colab.kernel.invokeFunction('convertToInteractive',\n",
              "                                                    [key], {});\n",
              "        if (!dataTable) return;\n",
              "\n",
              "        const docLinkHtml = 'Like what you see? Visit the ' +\n",
              "          '<a target=\"_blank\" href=https://colab.research.google.com/notebooks/data_table.ipynb>data table notebook</a>'\n",
              "          + ' to learn more about interactive tables.';\n",
              "        element.innerHTML = '';\n",
              "        dataTable['output_type'] = 'display_data';\n",
              "        await google.colab.output.renderOutput(dataTable, element);\n",
              "        const docLink = document.createElement('div');\n",
              "        docLink.innerHTML = docLinkHtml;\n",
              "        element.appendChild(docLink);\n",
              "      }\n",
              "    </script>\n",
              "  </div>\n",
              "\n",
              "\n",
              "<div id=\"df-b816ff49-145b-4941-9fdd-6b61a5f2dfde\">\n",
              "  <button class=\"colab-df-quickchart\" onclick=\"quickchart('df-b816ff49-145b-4941-9fdd-6b61a5f2dfde')\"\n",
              "            title=\"Suggest charts\"\n",
              "            style=\"display:none;\">\n",
              "\n",
              "<svg xmlns=\"http://www.w3.org/2000/svg\" height=\"24px\"viewBox=\"0 0 24 24\"\n",
              "     width=\"24px\">\n",
              "    <g>\n",
              "        <path d=\"M19 3H5c-1.1 0-2 .9-2 2v14c0 1.1.9 2 2 2h14c1.1 0 2-.9 2-2V5c0-1.1-.9-2-2-2zM9 17H7v-7h2v7zm4 0h-2V7h2v10zm4 0h-2v-4h2v4z\"/>\n",
              "    </g>\n",
              "</svg>\n",
              "  </button>\n",
              "\n",
              "<style>\n",
              "  .colab-df-quickchart {\n",
              "      --bg-color: #E8F0FE;\n",
              "      --fill-color: #1967D2;\n",
              "      --hover-bg-color: #E2EBFA;\n",
              "      --hover-fill-color: #174EA6;\n",
              "      --disabled-fill-color: #AAA;\n",
              "      --disabled-bg-color: #DDD;\n",
              "  }\n",
              "\n",
              "  [theme=dark] .colab-df-quickchart {\n",
              "      --bg-color: #3B4455;\n",
              "      --fill-color: #D2E3FC;\n",
              "      --hover-bg-color: #434B5C;\n",
              "      --hover-fill-color: #FFFFFF;\n",
              "      --disabled-bg-color: #3B4455;\n",
              "      --disabled-fill-color: #666;\n",
              "  }\n",
              "\n",
              "  .colab-df-quickchart {\n",
              "    background-color: var(--bg-color);\n",
              "    border: none;\n",
              "    border-radius: 50%;\n",
              "    cursor: pointer;\n",
              "    display: none;\n",
              "    fill: var(--fill-color);\n",
              "    height: 32px;\n",
              "    padding: 0;\n",
              "    width: 32px;\n",
              "  }\n",
              "\n",
              "  .colab-df-quickchart:hover {\n",
              "    background-color: var(--hover-bg-color);\n",
              "    box-shadow: 0 1px 2px rgba(60, 64, 67, 0.3), 0 1px 3px 1px rgba(60, 64, 67, 0.15);\n",
              "    fill: var(--button-hover-fill-color);\n",
              "  }\n",
              "\n",
              "  .colab-df-quickchart-complete:disabled,\n",
              "  .colab-df-quickchart-complete:disabled:hover {\n",
              "    background-color: var(--disabled-bg-color);\n",
              "    fill: var(--disabled-fill-color);\n",
              "    box-shadow: none;\n",
              "  }\n",
              "\n",
              "  .colab-df-spinner {\n",
              "    border: 2px solid var(--fill-color);\n",
              "    border-color: transparent;\n",
              "    border-bottom-color: var(--fill-color);\n",
              "    animation:\n",
              "      spin 1s steps(1) infinite;\n",
              "  }\n",
              "\n",
              "  @keyframes spin {\n",
              "    0% {\n",
              "      border-color: transparent;\n",
              "      border-bottom-color: var(--fill-color);\n",
              "      border-left-color: var(--fill-color);\n",
              "    }\n",
              "    20% {\n",
              "      border-color: transparent;\n",
              "      border-left-color: var(--fill-color);\n",
              "      border-top-color: var(--fill-color);\n",
              "    }\n",
              "    30% {\n",
              "      border-color: transparent;\n",
              "      border-left-color: var(--fill-color);\n",
              "      border-top-color: var(--fill-color);\n",
              "      border-right-color: var(--fill-color);\n",
              "    }\n",
              "    40% {\n",
              "      border-color: transparent;\n",
              "      border-right-color: var(--fill-color);\n",
              "      border-top-color: var(--fill-color);\n",
              "    }\n",
              "    60% {\n",
              "      border-color: transparent;\n",
              "      border-right-color: var(--fill-color);\n",
              "    }\n",
              "    80% {\n",
              "      border-color: transparent;\n",
              "      border-right-color: var(--fill-color);\n",
              "      border-bottom-color: var(--fill-color);\n",
              "    }\n",
              "    90% {\n",
              "      border-color: transparent;\n",
              "      border-bottom-color: var(--fill-color);\n",
              "    }\n",
              "  }\n",
              "</style>\n",
              "\n",
              "  <script>\n",
              "    async function quickchart(key) {\n",
              "      const quickchartButtonEl =\n",
              "        document.querySelector('#' + key + ' button');\n",
              "      quickchartButtonEl.disabled = true;  // To prevent multiple clicks.\n",
              "      quickchartButtonEl.classList.add('colab-df-spinner');\n",
              "      try {\n",
              "        const charts = await google.colab.kernel.invokeFunction(\n",
              "            'suggestCharts', [key], {});\n",
              "      } catch (error) {\n",
              "        console.error('Error during call to suggestCharts:', error);\n",
              "      }\n",
              "      quickchartButtonEl.classList.remove('colab-df-spinner');\n",
              "      quickchartButtonEl.classList.add('colab-df-quickchart-complete');\n",
              "    }\n",
              "    (() => {\n",
              "      let quickchartButtonEl =\n",
              "        document.querySelector('#df-b816ff49-145b-4941-9fdd-6b61a5f2dfde button');\n",
              "      quickchartButtonEl.style.display =\n",
              "        google.colab.kernel.accessAllowed ? 'block' : 'none';\n",
              "    })();\n",
              "  </script>\n",
              "</div>\n",
              "\n",
              "    </div>\n",
              "  </div>\n"
            ],
            "application/vnd.google.colaboratory.intrinsic+json": {
              "type": "dataframe",
              "variable_name": "df",
              "summary": "{\n  \"name\": \"df\",\n  \"rows\": 2000,\n  \"fields\": [\n    {\n      \"column\": \"Matr\\u00edcula\",\n      \"properties\": {\n        \"dtype\": \"number\",\n        \"std\": 2605,\n        \"min\": 1022,\n        \"max\": 9999,\n        \"num_unique_values\": 1780,\n        \"samples\": [\n          6854,\n          6134,\n          8193\n        ],\n        \"semantic_type\": \"\",\n        \"description\": \"\"\n      }\n    },\n    {\n      \"column\": \"Nome\",\n      \"properties\": {\n        \"dtype\": \"string\",\n        \"num_unique_values\": 1919,\n        \"samples\": [\n          \"Cau\\u00ea Martins\",\n          \"Nat\\u00e1lia Pereira\",\n          \"Francisco Cardoso\"\n        ],\n        \"semantic_type\": \"\",\n        \"description\": \"\"\n      }\n    },\n    {\n      \"column\": \"Curso\",\n      \"properties\": {\n        \"dtype\": \"category\",\n        \"num_unique_values\": 12,\n        \"samples\": [\n          \"Ci\\u00eancia da Computa\\u00e7\\u00e3o\",\n          \"Sistemas de Informa\\u00e7\\u00e3o\",\n          \"Estat\\u00edstica\"\n        ],\n        \"semantic_type\": \"\",\n        \"description\": \"\"\n      }\n    },\n    {\n      \"column\": \"Sexo\",\n      \"properties\": {\n        \"dtype\": \"category\",\n        \"num_unique_values\": 2,\n        \"samples\": [\n          \"Feminino\",\n          \"Masculino\"\n        ],\n        \"semantic_type\": \"\",\n        \"description\": \"\"\n      }\n    },\n    {\n      \"column\": \"Data de Ingresso\",\n      \"properties\": {\n        \"dtype\": \"object\",\n        \"num_unique_values\": 1268,\n        \"samples\": [\n          \"18/03/2021\",\n          \"09/06/2021\"\n        ],\n        \"semantic_type\": \"\",\n        \"description\": \"\"\n      }\n    },\n    {\n      \"column\": \"Telefone\",\n      \"properties\": {\n        \"dtype\": \"string\",\n        \"num_unique_values\": 2000,\n        \"samples\": [\n          \"(217) 833-5166\",\n          \"(852) 211-3525\"\n        ],\n        \"semantic_type\": \"\",\n        \"description\": \"\"\n      }\n    },\n    {\n      \"column\": \"Endere\\u00e7o\",\n      \"properties\": {\n        \"dtype\": \"string\",\n        \"num_unique_values\": 1997,\n        \"samples\": [\n          \"Favela da Mota, 9\",\n          \"Lago Dias, 5\"\n        ],\n        \"semantic_type\": \"\",\n        \"description\": \"\"\n      }\n    },\n    {\n      \"column\": \"Bolsista\",\n      \"properties\": {\n        \"dtype\": \"category\",\n        \"num_unique_values\": 2,\n        \"samples\": [\n          \"N\\u00e3o\",\n          \"Sim\"\n        ],\n        \"semantic_type\": \"\",\n        \"description\": \"\"\n      }\n    },\n    {\n      \"column\": \"Previs\\u00e3o de Formatura\",\n      \"properties\": {\n        \"dtype\": \"object\",\n        \"num_unique_values\": 1369,\n        \"samples\": [\n          \"07/08/2023\",\n          \"11/07/2020\"\n        ],\n        \"semantic_type\": \"\",\n        \"description\": \"\"\n      }\n    },\n    {\n      \"column\": \"M\\u00e9dia de Notas\",\n      \"properties\": {\n        \"dtype\": \"number\",\n        \"std\": 27.516382172151957,\n        \"min\": 5.01,\n        \"max\": 99.97,\n        \"num_unique_values\": 1787,\n        \"samples\": [\n          39.9,\n          98.22\n        ],\n        \"semantic_type\": \"\",\n        \"description\": \"\"\n      }\n    },\n    {\n      \"column\": \"Email\",\n      \"properties\": {\n        \"dtype\": \"string\",\n        \"num_unique_values\": 1917,\n        \"samples\": [\n          \"valentina.melo@faculdadeaula.com.br\",\n          \"luigi.costela@faculdadeaula.com.br\"\n        ],\n        \"semantic_type\": \"\",\n        \"description\": \"\"\n      }\n    }\n  ]\n}"
            }
          },
          "metadata": {},
          "execution_count": 5
        }
      ],
      "source": [
        "df.head(5)"
      ]
    },
    {
      "cell_type": "markdown",
      "metadata": {
        "id": "ULMHWxihl961"
      },
      "source": [
        "# EXIBINDO OS METADADOS (SCHEMA) DO ARQUIVO"
      ]
    },
    {
      "cell_type": "code",
      "execution_count": null,
      "metadata": {
        "id": "gMQSeec7TbKV",
        "colab": {
          "base_uri": "https://localhost:8080/"
        },
        "outputId": "8f37f5ff-511d-43bb-da9e-1be7501fea86"
      },
      "outputs": [
        {
          "output_type": "stream",
          "name": "stdout",
          "text": [
            "<class 'pandas.core.frame.DataFrame'>\n",
            "RangeIndex: 2000 entries, 0 to 1999\n",
            "Data columns (total 11 columns):\n",
            " #   Column                 Non-Null Count  Dtype  \n",
            "---  ------                 --------------  -----  \n",
            " 0   Matrícula              2000 non-null   int64  \n",
            " 1   Nome                   2000 non-null   object \n",
            " 2   Curso                  2000 non-null   object \n",
            " 3   Sexo                   2000 non-null   object \n",
            " 4   Data de Ingresso       2000 non-null   object \n",
            " 5   Telefone               2000 non-null   object \n",
            " 6   Endereço               2000 non-null   object \n",
            " 7   Bolsista               2000 non-null   object \n",
            " 8   Previsão de Formatura  2000 non-null   object \n",
            " 9   Média de Notas         2000 non-null   float64\n",
            " 10  Email                  2000 non-null   object \n",
            "dtypes: float64(1), int64(1), object(9)\n",
            "memory usage: 172.0+ KB\n"
          ]
        }
      ],
      "source": [
        "df.info()"
      ]
    },
    {
      "cell_type": "markdown",
      "metadata": {
        "id": "8-lciDYvxgQJ"
      },
      "source": [
        "# AJUSTAR O SCHEMA DOS DADOS, SE NECESSÁRIO"
      ]
    },
    {
      "cell_type": "code",
      "source": [
        "df['Data de Ingresso'] = pd.to_datetime(df['Data de Ingresso'], errors='coerce')\n",
        "df['Previsão de Formatura'] = pd.to_datetime(df['Previsão de Formatura'], errors='coerce')\n",
        "df['Bolsista'] = df['Bolsista'].astype('category')\n",
        "df['Sexo'] = df['Sexo'].astype('category')\n",
        "\n",
        "print(df.dtypes)"
      ],
      "metadata": {
        "colab": {
          "base_uri": "https://localhost:8080/"
        },
        "id": "iR0S0AqtyUUJ",
        "outputId": "c41a6c9b-04be-489b-e199-d87afbf3ac74"
      },
      "execution_count": null,
      "outputs": [
        {
          "output_type": "stream",
          "name": "stdout",
          "text": [
            "Matrícula                         int64\n",
            "Nome                             object\n",
            "Curso                            object\n",
            "Sexo                           category\n",
            "Data de Ingresso         datetime64[ns]\n",
            "Telefone                         object\n",
            "Endereço                         object\n",
            "Bolsista                       category\n",
            "Previsão de Formatura    datetime64[ns]\n",
            "Média de Notas                  float64\n",
            "Email                            object\n",
            "dtype: object\n"
          ]
        },
        {
          "output_type": "stream",
          "name": "stderr",
          "text": [
            "<ipython-input-7-a4f4d2e2f93f>:1: UserWarning: Parsing dates in %d/%m/%Y format when dayfirst=False (the default) was specified. Pass `dayfirst=True` or specify a format to silence this warning.\n",
            "  df['Data de Ingresso'] = pd.to_datetime(df['Data de Ingresso'], errors='coerce')\n",
            "<ipython-input-7-a4f4d2e2f93f>:2: UserWarning: Parsing dates in %d/%m/%Y format when dayfirst=False (the default) was specified. Pass `dayfirst=True` or specify a format to silence this warning.\n",
            "  df['Previsão de Formatura'] = pd.to_datetime(df['Previsão de Formatura'], errors='coerce')\n"
          ]
        }
      ]
    }
  ],
  "metadata": {
    "colab": {
      "provenance": []
    },
    "kernelspec": {
      "display_name": "Python 3",
      "name": "python3"
    },
    "language_info": {
      "codemirror_mode": {
        "name": "ipython",
        "version": 3
      },
      "file_extension": ".py",
      "mimetype": "text/x-python",
      "name": "python",
      "nbconvert_exporter": "python",
      "pygments_lexer": "ipython3",
      "version": "3.12.0"
    }
  },
  "nbformat": 4,
  "nbformat_minor": 0
}