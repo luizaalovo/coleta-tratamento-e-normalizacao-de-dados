{
  "cells": [
    {
      "cell_type": "markdown",
      "metadata": {
        "id": "amvlB1KQmlNp"
      },
      "source": [
        "# INSTALAÇÃO DAS BIBLIOTECAS"
      ]
    },
    {
      "cell_type": "code",
      "execution_count": null,
      "metadata": {
        "id": "wTNx5CCjmXLf",
        "colab": {
          "base_uri": "https://localhost:8080/"
        },
        "outputId": "8302bc36-cd48-4a62-f01f-ae3a83d74fc9"
      },
      "outputs": [
        {
          "output_type": "stream",
          "name": "stdout",
          "text": [
            "Requirement already satisfied: pyspark in /usr/local/lib/python3.10/dist-packages (3.5.3)\n",
            "Requirement already satisfied: py4j==0.10.9.7 in /usr/local/lib/python3.10/dist-packages (from pyspark) (0.10.9.7)\n"
          ]
        }
      ],
      "source": [
        "%pip install pyspark"
      ]
    },
    {
      "cell_type": "markdown",
      "metadata": {
        "id": "KWlHXyJCmkwl"
      },
      "source": [
        "# IMPORTAÇÃO DAS BIBLIOTECAS"
      ]
    },
    {
      "cell_type": "code",
      "execution_count": null,
      "metadata": {
        "id": "L4zAhn9rmtLA"
      },
      "outputs": [],
      "source": [
        "from pyspark.sql import SparkSession"
      ]
    },
    {
      "cell_type": "markdown",
      "metadata": {
        "id": "4IMjeEvymuL4"
      },
      "source": [
        "# CRIAÇÃO DA APLICAÇÃO SPARK"
      ]
    },
    {
      "cell_type": "code",
      "execution_count": null,
      "metadata": {
        "id": "LZODabvLmtvF"
      },
      "outputs": [],
      "source": [
        "spark = SparkSession.builder.getOrCreate()"
      ]
    },
    {
      "cell_type": "markdown",
      "metadata": {
        "id": "Msq5MLLpm1_Z"
      },
      "source": [
        "# VARIÁVEIS DE APOIO"
      ]
    },
    {
      "cell_type": "code",
      "source": [
        "from google.colab import drive\n",
        "drive.mount('/content/drive')"
      ],
      "metadata": {
        "colab": {
          "base_uri": "https://localhost:8080/"
        },
        "id": "7e8dEGvYyujy",
        "outputId": "0ef16063-4f79-4ce4-d575-945e1d2dd051"
      },
      "execution_count": null,
      "outputs": [
        {
          "output_type": "stream",
          "name": "stdout",
          "text": [
            "Mounted at /content/drive\n"
          ]
        }
      ]
    },
    {
      "cell_type": "code",
      "execution_count": null,
      "metadata": {
        "id": "gOGAdE0Nm3Vd"
      },
      "outputs": [],
      "source": [
        "arquivo = '/content/drive/My Drive/ARQ/DADOS_ESTUDANTES.json'\n",
        "\n",
        "options = {\n",
        "    \"encoding\": \"Latin1\",\n",
        "    \"multiline\": \"true\"\n",
        "}"
      ]
    },
    {
      "cell_type": "markdown",
      "metadata": {
        "id": "tHpw5g5YnEZP"
      },
      "source": [
        "# LEITURA DO ARQUIVO JSON USANDO SPARK"
      ]
    },
    {
      "cell_type": "code",
      "execution_count": null,
      "metadata": {
        "id": "RpLbV91BnGUV"
      },
      "outputs": [],
      "source": [
        "df = spark.read.options(**options).json(arquivo)"
      ]
    },
    {
      "cell_type": "markdown",
      "metadata": {
        "id": "bEjcojWtnkT_"
      },
      "source": [
        "# EXIBINDO UMA AMOSTRA DOS DADOS"
      ]
    },
    {
      "cell_type": "code",
      "execution_count": null,
      "metadata": {
        "id": "pVz6yqs2napA",
        "colab": {
          "base_uri": "https://localhost:8080/"
        },
        "outputId": "8bed8b8e-6ad9-4b23-ac12-30f7bdd7f4df"
      },
      "outputs": [
        {
          "metadata": {
            "tags": null
          },
          "name": "stdout",
          "output_type": "stream",
          "text": [
            "+--------+--------------------+----------------+--------------------+--------------------+----------+---------------+------------------+----------------------+---------+--------------+\n",
            "|Bolsista|               Curso|Data de Ingresso|               Email|           EndereÃ§o|MatrÃ­cula|MÃ©dia de Notas|              Nome|PrevisÃ£o de Formatura|     Sexo|      Telefone|\n",
            "+--------+--------------------+----------------+--------------------+--------------------+----------+---------------+------------------+----------------------+---------+--------------+\n",
            "|     Sim|        EstatÃ­stica|      27/03/2020|kevin.freitas@fac...|Vila de da Concei...|      4779|          62.63|     Kevin Freitas|            27/03/2023|Masculino|(450) 815-8031|\n",
            "|     Sim|      Jogos Digitais|      13/09/2018|rafaela.das.neves...|  Parque Correia, 64|      4716|          92.35| Rafaela das Neves|            13/09/2021| Feminino|(580) 593-6152|\n",
            "|    NÃ£o|     AdministraÃ§Ã£o|      02/04/2022|milena.pereira@fa...|    ChÃ¡cara Azevedo|      6986|          79.71|    Milena Pereira|            02/04/2024| Feminino|(518) 361-5699|\n",
            "|    NÃ£o|      Jogos Digitais|      24/06/2022|alexandre.monteir...|    Largo Nunes, 853|      2193|          18.09|Alexandre Monteiro|            24/06/2026| Feminino|(337) 844-2084|\n",
            "|     Sim| Engenharia de Dados|      22/06/2020|ian.farias@faculd...|    Recanto Pires, 1|      2258|          18.01|        Ian Farias|            22/06/2023| Feminino|(422) 260-3970|\n",
            "|     Sim|           Geografia|      28/09/2019|lavinia.santos@fa...|     EstaÃ§Ã£o Nunes|      7711|          42.83|   LavÃ­nia Santos|            28/09/2022|Masculino|(711) 985-8146|\n",
            "|    NÃ£o|        EstatÃ­stica|      10/01/2019|carolina.da.cruz@...|Jardim Rafael Via...|      3822|           62.4|  Carolina da Cruz|            10/01/2023| Feminino|(911) 326-8396|\n",
            "|    NÃ£o|InteligÃªncia Art...|      11/08/2022|olivia.pires@facu...| Via Juliana Barbosa|      9588|          23.65|      Olivia Pires|            11/08/2024|Masculino|(603) 603-7649|\n",
            "|     Sim|            Medicina|      27/12/2018|emanuelly.vieira@...|Via Evelyn Costel...|      5119|          54.24|  Emanuelly Vieira|            27/12/2021|Masculino|(906) 299-3596|\n",
            "|     Sim|              Letras|      13/01/2022|davi.luiz.moraes@...|  ChÃ¡cara de da Luz|      9705|          45.22|  Davi Luiz Moraes|            13/01/2025| Feminino|(823) 996-8396|\n",
            "|    NÃ£o|          Jornalismo|      13/01/2019|samuel.oliveira@f...|EstaÃ§Ã£o Enrico ...|      2016|          90.03|   Samuel Oliveira|            13/01/2022|Masculino|(269) 962-6879|\n",
            "|    NÃ£o|      Jogos Digitais|      03/03/2019|calebe.ramos@facu...|Viela Larissa Mar...|      9929|          65.32|      Calebe Ramos|            03/03/2021| Feminino|(672) 718-5305|\n",
            "|    NÃ£o| Engenharia de Dados|      20/05/2023|antonio.vieira@fa...|     Vila Pinto, 990|      2875|          99.93|   AntÃ´nio Vieira|            20/05/2025|Masculino|(393) 862-5797|\n",
            "|     Sim|Sistemas de Infor...|      06/12/2021|caio.da.costa@fac...| Trecho Ferreira, 35|      3575|           42.5|     Caio da Costa|            06/12/2023|Masculino|(638) 328-7388|\n",
            "|    NÃ£o|CiÃªncia da Compu...|      15/10/2021|calebe.mendes@fac...|  Quadra de Gomes, 1|      6274|          54.28|     Calebe Mendes|            15/10/2023|Masculino|(508) 474-4854|\n",
            "|     Sim|     AdministraÃ§Ã£o|      23/02/2019|leonardo.da.mota@...|Alameda Davi Lucc...|      3817|          91.43|  Leonardo da Mota|            23/02/2023| Feminino|(211) 697-5656|\n",
            "|    NÃ£o|     AdministraÃ§Ã£o|      25/11/2018|igor.alves@faculd...|     Morro das Neves|      8127|          99.08|        Igor Alves|            25/11/2022| Feminino|(861) 262-5927|\n",
            "|     Sim|        EstatÃ­stica|      11/04/2020|anthony.da.mata@f...|Rodovia Caroline ...|      6433|          96.25|   Anthony da Mata|            11/04/2024|Masculino|(671) 353-9348|\n",
            "|     Sim| Engenharia de Dados|      09/11/2019|joana.moreira@fac...|Estrada Alice Ram...|      3598|           51.0|     Joana Moreira|            09/11/2022|Masculino|(724) 937-3685|\n",
            "|     Sim|     AdministraÃ§Ã£o|      24/01/2021|brenda.nunes@facu...|    Travessa Cardoso|      8961|          44.03|      Brenda Nunes|            24/01/2025|Masculino|(417) 533-2729|\n",
            "+--------+--------------------+----------------+--------------------+--------------------+----------+---------------+------------------+----------------------+---------+--------------+\n",
            "only showing top 20 rows\n",
            "\n"
          ]
        }
      ],
      "source": [
        "df.show()"
      ]
    },
    {
      "cell_type": "markdown",
      "metadata": {
        "id": "x4bCtyIInlm1"
      },
      "source": [
        "# EXIBINDO OS METADADOS (SCHEMA) DO ARQUIVO"
      ]
    },
    {
      "cell_type": "code",
      "execution_count": null,
      "metadata": {
        "id": "zzjRFHL2na5-",
        "colab": {
          "base_uri": "https://localhost:8080/"
        },
        "outputId": "2ba781fb-e04a-400f-dbe6-3a24c8e5fdd9"
      },
      "outputs": [
        {
          "output_type": "stream",
          "name": "stdout",
          "text": [
            "root\n",
            " |-- Bolsista: string (nullable = true)\n",
            " |-- Curso: string (nullable = true)\n",
            " |-- Data de Ingresso: string (nullable = true)\n",
            " |-- Email: string (nullable = true)\n",
            " |-- EndereÃ§o: string (nullable = true)\n",
            " |-- MatrÃ­cula: long (nullable = true)\n",
            " |-- MÃ©dia de Notas: double (nullable = true)\n",
            " |-- Nome: string (nullable = true)\n",
            " |-- PrevisÃ£o de Formatura: string (nullable = true)\n",
            " |-- Sexo: string (nullable = true)\n",
            " |-- Telefone: string (nullable = true)\n",
            "\n"
          ]
        }
      ],
      "source": [
        "df.printSchema()"
      ]
    },
    {
      "cell_type": "markdown",
      "metadata": {
        "id": "ECou0JsMyhL1"
      },
      "source": [
        "# AJUSTAR O SCHEMA DOS DADOS, SE NECESSÁRIO"
      ]
    },
    {
      "cell_type": "code",
      "source": [
        "from pyspark.sql.functions import to_date\n",
        "from pyspark.sql.types import StringType\n",
        "\n",
        "df = df.withColumnRenamed('EndereÃ§o', 'Endereço') \\\n",
        "       .withColumnRenamed('MÃ©dia de Notas', 'Média de Notas') \\\n",
        "       .withColumnRenamed('PrevisÃ£o de Formatura', 'Previsão de Formatura') \\\n",
        "       .withColumnRenamed('MatrÃ­cula', 'Matrícula')\n",
        "\n",
        "df = df.withColumn('Data de Ingresso', to_date(df['Data de Ingresso'], 'yyyy-MM-dd'))\n",
        "df = df.withColumn('Previsão de Formatura', to_date(df['Previsão de Formatura'], 'yyyy-MM-dd'))\n",
        "\n",
        "\n",
        "df = df.withColumn('Bolsista', df['Bolsista'].cast(StringType())) \\\n",
        "       .withColumn('Sexo', df['Sexo'].cast(StringType()))\n",
        "\n",
        "df.printSchema()"
      ],
      "metadata": {
        "colab": {
          "base_uri": "https://localhost:8080/"
        },
        "id": "U5VpR_bzzII8",
        "outputId": "ae35fc2c-c360-4574-8d82-36cac12794e5"
      },
      "execution_count": null,
      "outputs": [
        {
          "output_type": "stream",
          "name": "stdout",
          "text": [
            "root\n",
            " |-- Bolsista: string (nullable = true)\n",
            " |-- Curso: string (nullable = true)\n",
            " |-- Data de Ingresso: date (nullable = true)\n",
            " |-- Email: string (nullable = true)\n",
            " |-- Endereço: string (nullable = true)\n",
            " |-- Matrícula: long (nullable = true)\n",
            " |-- Média de Notas: double (nullable = true)\n",
            " |-- Nome: string (nullable = true)\n",
            " |-- Previsão de Formatura: date (nullable = true)\n",
            " |-- Sexo: string (nullable = true)\n",
            " |-- Telefone: string (nullable = true)\n",
            "\n"
          ]
        }
      ]
    }
  ],
  "metadata": {
    "colab": {
      "provenance": []
    },
    "kernelspec": {
      "display_name": "Python 3",
      "name": "python3"
    },
    "language_info": {
      "name": "python"
    }
  },
  "nbformat": 4,
  "nbformat_minor": 0
}