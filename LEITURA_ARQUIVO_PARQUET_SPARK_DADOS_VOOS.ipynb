{
  "cells": [
    {
      "cell_type": "markdown",
      "metadata": {
        "id": "VVa_sQ7rzs89"
      },
      "source": [
        "# INSTALAÇÃO DAS BIBLIOTECAS"
      ]
    },
    {
      "cell_type": "code",
      "execution_count": null,
      "metadata": {
        "id": "nbzBMwBF5Ani",
        "colab": {
          "base_uri": "https://localhost:8080/"
        },
        "outputId": "fb0e7501-dfd2-494a-a1b2-a5dceb778c2d"
      },
      "outputs": [
        {
          "output_type": "stream",
          "name": "stdout",
          "text": [
            "Requirement already satisfied: pyspark in /usr/local/lib/python3.10/dist-packages (3.5.3)\n",
            "Requirement already satisfied: py4j==0.10.9.7 in /usr/local/lib/python3.10/dist-packages (from pyspark) (0.10.9.7)\n"
          ]
        }
      ],
      "source": [
        "%pip install pyspark"
      ]
    },
    {
      "cell_type": "markdown",
      "metadata": {
        "id": "6nWec8DFzs8_"
      },
      "source": [
        "# IMPORTAÇÃO DAS BIBLIOTECAS"
      ]
    },
    {
      "cell_type": "code",
      "execution_count": null,
      "metadata": {
        "id": "gVbggMM45JER"
      },
      "outputs": [],
      "source": [
        "from pyspark.sql import SparkSession\n",
        "from pyspark.sql.types import TimestampType, IntegerType, StringType, DoubleType\n",
        "from pyspark.sql.functions import col"
      ]
    },
    {
      "cell_type": "markdown",
      "metadata": {
        "id": "SBd60L_Jzs8_"
      },
      "source": [
        "# CRIAÇÃO DA APLICAÇÃO SPARK"
      ]
    },
    {
      "cell_type": "code",
      "execution_count": null,
      "metadata": {
        "id": "rVkGFv8t5Lh1"
      },
      "outputs": [],
      "source": [
        "spark = SparkSession.builder.getOrCreate()"
      ]
    },
    {
      "cell_type": "markdown",
      "metadata": {
        "id": "XnqI1kXMzs9A"
      },
      "source": [
        "# VARIÁVEIS DE APOIO"
      ]
    },
    {
      "cell_type": "code",
      "source": [
        "from google.colab import drive\n",
        "drive.mount('/content/drive')"
      ],
      "metadata": {
        "colab": {
          "base_uri": "https://localhost:8080/"
        },
        "id": "1ICEA8P50fkf",
        "outputId": "d394f970-0513-43e9-db70-cda006c7921c"
      },
      "execution_count": null,
      "outputs": [
        {
          "output_type": "stream",
          "name": "stdout",
          "text": [
            "Mounted at /content/drive\n"
          ]
        }
      ]
    },
    {
      "cell_type": "code",
      "execution_count": null,
      "metadata": {
        "id": "CybBVHq76DVr"
      },
      "outputs": [],
      "source": [
        "arquivo = '/content/drive/My Drive/ARQ/DADOS_VOOS.parquet'"
      ]
    },
    {
      "cell_type": "markdown",
      "metadata": {
        "id": "jr9MYWiC5szi"
      },
      "source": [
        "# LEITURA DO ARQUIVO PARQUET USANDO SPARK"
      ]
    },
    {
      "cell_type": "code",
      "execution_count": null,
      "metadata": {
        "id": "SgDw3hjM5qow"
      },
      "outputs": [],
      "source": [
        "df_dados_voos = spark.read.format('parquet').options(header=True, inferSchema=True).load(arquivo)"
      ]
    },
    {
      "cell_type": "markdown",
      "metadata": {
        "id": "liVu5Wgy625T"
      },
      "source": [
        "# EXIBINDO UMA AMOSTRA DOS DADOS"
      ]
    },
    {
      "cell_type": "code",
      "execution_count": null,
      "metadata": {
        "id": "zfYeRZUf6NNY",
        "colab": {
          "base_uri": "https://localhost:8080/"
        },
        "outputId": "35de54c5-9711-487f-e120-97d78e0bad57"
      },
      "outputs": [
        {
          "output_type": "stream",
          "name": "stdout",
          "text": [
            "+------+-----------+---------------+-------------+-------------------+-------------------+----------+-------------+\n",
            "|origin|destination|        airline|flight_number|     departure_time|       arrival_time|passengers|delay_minutes|\n",
            "+------+-----------+---------------+-------------+-------------------+-------------------+----------+-------------+\n",
            "|   SDU|        SSA|            GOL|         1726|2023-07-06 11:10:10|2023-07-06 15:10:10|       145|           78|\n",
            "|   REC|        FLN|           Azul|         6485|2023-05-25 01:06:09|2023-05-25 02:06:09|       107|           55|\n",
            "|   FOR|        BSB|       Emirates|         4051|2023-07-14 22:20:55|2023-07-15 06:20:55|       136|           74|\n",
            "|   REC|        GRU|           Azul|         8528|2023-05-30 07:45:50|2023-05-30 09:45:50|       153|          116|\n",
            "|   FOR|        SDU|British Airways|         6470|2023-06-20 04:38:15|2023-06-20 08:38:15|       166|           16|\n",
            "|   GRU|        REC|            GOL|         2257|2023-07-12 12:21:21|2023-07-12 15:21:21|       134|           16|\n",
            "|   GRU|        SSA|British Airways|         5408|2023-06-09 18:39:04|2023-06-09 23:39:04|       187|           93|\n",
            "|   FOR|        SSA|         United|         7334|2023-06-08 04:11:35|2023-06-08 09:11:35|        50|           24|\n",
            "|   REC|        GRU|        Avianca|         2424|2023-07-07 15:23:31|2023-07-07 16:23:31|       131|           61|\n",
            "|   CNF|        REC|        Avianca|          489|2023-05-21 17:55:37|2023-05-22 01:55:37|       113|          105|\n",
            "|   SDU|        FOR|        Avianca|         2908|2023-05-28 19:38:10|2023-05-29 01:38:10|       120|           88|\n",
            "|   FOR|        FLN|        Avianca|         9794|2023-06-05 08:47:13|2023-06-05 10:47:13|        71|           92|\n",
            "|   SSA|        FLN|            GOL|          934|2023-06-27 00:17:24|2023-06-27 06:17:24|       132|           30|\n",
            "|   SSA|        GRU|          LATAM|         2667|2023-07-14 18:20:09|2023-07-14 21:20:09|        75|            0|\n",
            "|   CNF|        BSB|            TAP|         6819|2023-06-03 11:35:05|2023-06-03 16:35:05|       183|           82|\n",
            "|   SSA|        FOR|          LATAM|         1525|2023-06-18 03:29:14|2023-06-18 07:29:14|       103|            8|\n",
            "|   BSB|        FLN|            GOL|          561|2023-07-18 09:03:13|2023-07-18 15:03:13|        57|           57|\n",
            "|   SDU|        GRU|          LATAM|         2517|2023-06-29 22:49:27|2023-06-30 02:49:27|       187|           46|\n",
            "|   SDU|        BSB|         United|         2731|2023-06-24 19:30:52|2023-06-24 23:30:52|       131|           39|\n",
            "|   GRU|        SSA|           Azul|         8362|2023-07-08 10:27:44|2023-07-08 17:27:44|        91|           38|\n",
            "+------+-----------+---------------+-------------+-------------------+-------------------+----------+-------------+\n",
            "only showing top 20 rows\n",
            "\n"
          ]
        }
      ],
      "source": [
        "df_dados_voos.show()"
      ]
    },
    {
      "cell_type": "markdown",
      "metadata": {
        "id": "ytCxbGl666bH"
      },
      "source": [
        "# EXIBINDO OS METADADOS DO ARQUIVO"
      ]
    },
    {
      "cell_type": "code",
      "execution_count": null,
      "metadata": {
        "id": "YoPZ49yW6QT2",
        "colab": {
          "base_uri": "https://localhost:8080/"
        },
        "outputId": "43a5f953-4b0d-46d9-d584-2a3e055f993c"
      },
      "outputs": [
        {
          "output_type": "stream",
          "name": "stdout",
          "text": [
            "root\n",
            " |-- origin: string (nullable = true)\n",
            " |-- destination: string (nullable = true)\n",
            " |-- airline: string (nullable = true)\n",
            " |-- flight_number: long (nullable = true)\n",
            " |-- departure_time: string (nullable = true)\n",
            " |-- arrival_time: string (nullable = true)\n",
            " |-- passengers: long (nullable = true)\n",
            " |-- delay_minutes: long (nullable = true)\n",
            "\n"
          ]
        }
      ],
      "source": [
        "df_dados_voos.printSchema()"
      ]
    },
    {
      "cell_type": "markdown",
      "metadata": {
        "id": "sNNdNoVm7SQx"
      },
      "source": [
        "# AJUSTAR O SCHEMA DOS DADOS, SE NECESSÁRIO"
      ]
    },
    {
      "cell_type": "code",
      "execution_count": null,
      "metadata": {
        "id": "kBZdD-Mn7BG_",
        "colab": {
          "base_uri": "https://localhost:8080/"
        },
        "outputId": "c837e677-d2d4-4197-bd12-1fa9735e89d7"
      },
      "outputs": [
        {
          "output_type": "stream",
          "name": "stdout",
          "text": [
            "root\n",
            " |-- origin: string (nullable = true)\n",
            " |-- destination: string (nullable = true)\n",
            " |-- airline: string (nullable = true)\n",
            " |-- flight_number: long (nullable = true)\n",
            " |-- departure_time: timestamp (nullable = true)\n",
            " |-- arrival_time: timestamp (nullable = true)\n",
            " |-- passengers: long (nullable = true)\n",
            " |-- delay_minutes: long (nullable = true)\n",
            "\n"
          ]
        }
      ],
      "source": [
        "df_dados_voos = df_dados_voos.withColumn('departure_time', col('departure_time').astype(TimestampType()))\n",
        "df_dados_voos = df_dados_voos.withColumn('arrival_time', col('arrival_time').astype(TimestampType()))\n",
        "\n",
        "df_dados_voos.printSchema()"
      ]
    }
  ],
  "metadata": {
    "colab": {
      "provenance": []
    },
    "kernelspec": {
      "display_name": "Python 3",
      "name": "python3"
    },
    "language_info": {
      "name": "python"
    }
  },
  "nbformat": 4,
  "nbformat_minor": 0
}