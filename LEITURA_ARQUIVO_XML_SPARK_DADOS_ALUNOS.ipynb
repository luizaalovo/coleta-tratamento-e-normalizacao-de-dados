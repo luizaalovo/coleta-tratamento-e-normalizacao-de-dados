{
  "cells": [
    {
      "cell_type": "markdown",
      "metadata": {
        "id": "MbcEZEYV-Nzv"
      },
      "source": [
        "# INSTALAÇÃO DAS BIBLIOTECAS"
      ]
    },
    {
      "cell_type": "code",
      "execution_count": null,
      "metadata": {
        "id": "HzQ-PU1N95kt",
        "colab": {
          "base_uri": "https://localhost:8080/"
        },
        "outputId": "22f1a2c9-541c-45df-e438-a52b43db2eda"
      },
      "outputs": [
        {
          "output_type": "stream",
          "name": "stdout",
          "text": [
            "Requirement already satisfied: pyspark in /usr/local/lib/python3.10/dist-packages (3.5.3)\n",
            "Requirement already satisfied: py4j==0.10.9.7 in /usr/local/lib/python3.10/dist-packages (from pyspark) (0.10.9.7)\n"
          ]
        }
      ],
      "source": [
        "%pip install pyspark"
      ]
    },
    {
      "cell_type": "markdown",
      "metadata": {
        "id": "xL3tt7U_-UCv"
      },
      "source": [
        "# IMPORTAÇÃO DAS BIBLIOTECAS"
      ]
    },
    {
      "cell_type": "code",
      "execution_count": null,
      "metadata": {
        "id": "KjJ_Er2b-Tbw"
      },
      "outputs": [],
      "source": [
        "from pyspark.sql import SparkSession\n",
        "from pyspark.sql.functions import to_date\n",
        "import xml.etree.ElementTree as ET"
      ]
    },
    {
      "cell_type": "markdown",
      "metadata": {
        "id": "N9oH8epc-YFb"
      },
      "source": [
        "# CRIAÇÃO DA APLICAÇÃO SPARK"
      ]
    },
    {
      "cell_type": "code",
      "execution_count": null,
      "metadata": {
        "id": "SNG1JJjZ-Xp2"
      },
      "outputs": [],
      "source": [
        "spark = SparkSession.builder.getOrCreate()"
      ]
    },
    {
      "cell_type": "markdown",
      "metadata": {
        "id": "IzB1U6PF-c2L"
      },
      "source": [
        "# VARIÁVEIS DE APOIO"
      ]
    },
    {
      "cell_type": "code",
      "source": [
        "from google.colab import drive\n",
        "drive.mount('/content/drive')"
      ],
      "metadata": {
        "colab": {
          "base_uri": "https://localhost:8080/"
        },
        "id": "lIDHHycN1TDB",
        "outputId": "2e9ffa90-946d-4b08-cea1-13ddb055b8cf"
      },
      "execution_count": null,
      "outputs": [
        {
          "output_type": "stream",
          "name": "stdout",
          "text": [
            "Mounted at /content/drive\n"
          ]
        }
      ]
    },
    {
      "cell_type": "code",
      "execution_count": null,
      "metadata": {
        "id": "2Jo22jf--by2"
      },
      "outputs": [],
      "source": [
        "arquivo = '/content/drive/My Drive/ARQ/DADOS_ALUNOS.xml'"
      ]
    },
    {
      "cell_type": "markdown",
      "metadata": {
        "id": "AhpDZPpW_XSF"
      },
      "source": [
        "# FUNÇÃO PARA LER ARQUIVO XML"
      ]
    },
    {
      "cell_type": "code",
      "execution_count": null,
      "metadata": {
        "id": "BS5VAJPt_Ytm"
      },
      "outputs": [],
      "source": [
        "def ler_xml(arquivo):\n",
        "    tree = ET.parse(arquivo)\n",
        "    root = tree.getroot()\n",
        "    return root"
      ]
    },
    {
      "cell_type": "markdown",
      "metadata": {
        "id": "RE6_eq-x06Gx"
      },
      "source": [
        "# CRIAÇÃO DE LISTA COM O CONTEÚDO DO XML"
      ]
    },
    {
      "cell_type": "code",
      "execution_count": null,
      "metadata": {
        "id": "0bFO5bEn_xVn"
      },
      "outputs": [],
      "source": [
        "root = ler_xml(arquivo)\n",
        "dados_alunos = []\n",
        "\n",
        "for aluno in root:\n",
        "  nome_completo = aluno.find('nome_completo').text\n",
        "  data_nascimento = aluno.find('data_nascimento').text\n",
        "  bairro = aluno.find('bairro').text\n",
        "  cidade = aluno.find('cidade').text\n",
        "  estado = aluno.find('estado').text\n",
        "  tipo_escola = aluno.find('tipo_escola').text\n",
        "  nome_escola = aluno.find('nome_escola').text\n",
        "  for notas in aluno:\n",
        "    for disciplinas in notas:\n",
        "      disciplina = str(disciplinas.attrib.get('nome'))\n",
        "      for atividades in disciplinas:\n",
        "        atividade = atividades.find('nome').text\n",
        "        valor = atividades.find('valor').text\n",
        "        nota = atividades.find('nota').text\n",
        "        dados_alunos.append([nome_completo, data_nascimento, bairro, cidade, estado, tipo_escola, nome_escola, disciplina, atividade, valor, nota])"
      ]
    },
    {
      "cell_type": "markdown",
      "metadata": {
        "id": "nuB9ZsLCGFrB"
      },
      "source": [
        "# LEITURA DA LISTA USANDO SPARK"
      ]
    },
    {
      "cell_type": "code",
      "execution_count": null,
      "metadata": {
        "id": "fnF8KQBvAL13"
      },
      "outputs": [],
      "source": [
        "df = spark.createDataFrame(dados_alunos, ['nome_completo', 'data_nascimento', 'bairro', 'cidade', 'estado', 'tipo_escola', 'nome_escola', 'disciplina', 'atividade', 'valor', 'nota'])"
      ]
    },
    {
      "cell_type": "markdown",
      "metadata": {
        "id": "LjPNniuyINCn"
      },
      "source": [
        "# EXIBINDO UMA AMOSTRA DOS DADOS"
      ]
    },
    {
      "cell_type": "code",
      "execution_count": null,
      "metadata": {
        "id": "c2m8wLWIFt-o",
        "colab": {
          "base_uri": "https://localhost:8080/"
        },
        "outputId": "4ef6ee0d-92f1-4ee7-9c02-31524d374a20"
      },
      "outputs": [
        {
          "output_type": "stream",
          "name": "stdout",
          "text": [
            "+----------------------+---------------+-----------+--------------+------------+-----------+-----------------------+----------+-----------+-----+----+\n",
            "|nome_completo         |data_nascimento|bairro     |cidade        |estado      |tipo_escola|nome_escola            |disciplina|atividade  |valor|nota|\n",
            "+----------------------+---------------+-----------+--------------+------------+-----------+-----------------------+----------+-----------+-----+----+\n",
            "|Luiz Miguel Nascimento|09/02/2009     |Mangabeiras|Belo Horizonte|Minas Gerais|Municipal  |Escola Estadual Almeida|Português |Atividade 1|56   |52  |\n",
            "|Luiz Miguel Nascimento|09/02/2009     |Mangabeiras|Belo Horizonte|Minas Gerais|Municipal  |Escola Estadual Almeida|Português |Atividade 2|31   |14  |\n",
            "|Luiz Miguel Nascimento|09/02/2009     |Mangabeiras|Belo Horizonte|Minas Gerais|Municipal  |Escola Estadual Almeida|Português |Atividade 3|6    |1   |\n",
            "|Luiz Miguel Nascimento|09/02/2009     |Mangabeiras|Belo Horizonte|Minas Gerais|Municipal  |Escola Estadual Almeida|Português |Atividade 4|3    |2   |\n",
            "|Luiz Miguel Nascimento|09/02/2009     |Mangabeiras|Belo Horizonte|Minas Gerais|Municipal  |Escola Estadual Almeida|Português |Atividade 5|2    |1   |\n",
            "|Luiz Miguel Nascimento|09/02/2009     |Mangabeiras|Belo Horizonte|Minas Gerais|Municipal  |Escola Estadual Almeida|Português |Atividade 6|2    |1   |\n",
            "|Luiz Miguel Nascimento|09/02/2009     |Mangabeiras|Belo Horizonte|Minas Gerais|Municipal  |Escola Estadual Almeida|Matemática|Atividade 1|76   |30  |\n",
            "|Luiz Miguel Nascimento|09/02/2009     |Mangabeiras|Belo Horizonte|Minas Gerais|Municipal  |Escola Estadual Almeida|Matemática|Atividade 2|2    |2   |\n",
            "|Luiz Miguel Nascimento|09/02/2009     |Mangabeiras|Belo Horizonte|Minas Gerais|Municipal  |Escola Estadual Almeida|Matemática|Atividade 3|2    |0   |\n",
            "|Luiz Miguel Nascimento|09/02/2009     |Mangabeiras|Belo Horizonte|Minas Gerais|Municipal  |Escola Estadual Almeida|Matemática|Atividade 4|8    |6   |\n",
            "|Luiz Miguel Nascimento|09/02/2009     |Mangabeiras|Belo Horizonte|Minas Gerais|Municipal  |Escola Estadual Almeida|Matemática|Atividade 5|7    |4   |\n",
            "|Luiz Miguel Nascimento|09/02/2009     |Mangabeiras|Belo Horizonte|Minas Gerais|Municipal  |Escola Estadual Almeida|Matemática|Atividade 6|5    |3   |\n",
            "|Luiz Miguel Nascimento|09/02/2009     |Mangabeiras|Belo Horizonte|Minas Gerais|Municipal  |Escola Estadual Almeida|Física    |Atividade 1|33   |20  |\n",
            "|Luiz Miguel Nascimento|09/02/2009     |Mangabeiras|Belo Horizonte|Minas Gerais|Municipal  |Escola Estadual Almeida|Física    |Atividade 2|4    |4   |\n",
            "|Luiz Miguel Nascimento|09/02/2009     |Mangabeiras|Belo Horizonte|Minas Gerais|Municipal  |Escola Estadual Almeida|Física    |Atividade 3|36   |29  |\n",
            "|Luiz Miguel Nascimento|09/02/2009     |Mangabeiras|Belo Horizonte|Minas Gerais|Municipal  |Escola Estadual Almeida|Física    |Atividade 4|1    |0   |\n",
            "|Luiz Miguel Nascimento|09/02/2009     |Mangabeiras|Belo Horizonte|Minas Gerais|Municipal  |Escola Estadual Almeida|Física    |Atividade 5|25   |10  |\n",
            "|Luiz Miguel Nascimento|09/02/2009     |Mangabeiras|Belo Horizonte|Minas Gerais|Municipal  |Escola Estadual Almeida|Física    |Atividade 6|1    |1   |\n",
            "|Luiz Miguel Nascimento|09/02/2009     |Mangabeiras|Belo Horizonte|Minas Gerais|Municipal  |Escola Estadual Almeida|Química   |Atividade 1|14   |10  |\n",
            "|Luiz Miguel Nascimento|09/02/2009     |Mangabeiras|Belo Horizonte|Minas Gerais|Municipal  |Escola Estadual Almeida|Química   |Atividade 2|47   |27  |\n",
            "+----------------------+---------------+-----------+--------------+------------+-----------+-----------------------+----------+-----------+-----+----+\n",
            "only showing top 20 rows\n",
            "\n"
          ]
        }
      ],
      "source": [
        "df.show(truncate=False)"
      ]
    },
    {
      "cell_type": "markdown",
      "metadata": {
        "id": "VC8Lcux7IO8x"
      },
      "source": [
        "# EXIBINDO OS METADADOS (SCHEMA) DO ARQUIVO"
      ]
    },
    {
      "cell_type": "code",
      "execution_count": null,
      "metadata": {
        "id": "V--g_CnlGHZJ",
        "colab": {
          "base_uri": "https://localhost:8080/"
        },
        "outputId": "4e3773c1-ed81-4c08-a72b-f775accf59b9"
      },
      "outputs": [
        {
          "output_type": "stream",
          "name": "stdout",
          "text": [
            "root\n",
            " |-- nome_completo: string (nullable = true)\n",
            " |-- data_nascimento: string (nullable = true)\n",
            " |-- bairro: string (nullable = true)\n",
            " |-- cidade: string (nullable = true)\n",
            " |-- estado: string (nullable = true)\n",
            " |-- tipo_escola: string (nullable = true)\n",
            " |-- nome_escola: string (nullable = true)\n",
            " |-- disciplina: string (nullable = true)\n",
            " |-- atividade: string (nullable = true)\n",
            " |-- valor: string (nullable = true)\n",
            " |-- nota: string (nullable = true)\n",
            "\n"
          ]
        }
      ],
      "source": [
        "df.printSchema()"
      ]
    },
    {
      "cell_type": "markdown",
      "metadata": {
        "id": "jxvmnzW7IXm7"
      },
      "source": [
        "# AJUSTANDO O SCHEMA DOS DADOS, SE NECESSÁRIO"
      ]
    },
    {
      "cell_type": "code",
      "execution_count": null,
      "metadata": {
        "id": "_VYsK84QIWVJ",
        "colab": {
          "base_uri": "https://localhost:8080/"
        },
        "outputId": "1b3de007-70c9-43a1-dbca-5b1561d1dd88"
      },
      "outputs": [
        {
          "output_type": "stream",
          "name": "stdout",
          "text": [
            "root\n",
            " |-- nome_completo: string (nullable = true)\n",
            " |-- data_nascimento: date (nullable = true)\n",
            " |-- bairro: string (nullable = true)\n",
            " |-- cidade: string (nullable = true)\n",
            " |-- estado: string (nullable = true)\n",
            " |-- tipo_escola: string (nullable = true)\n",
            " |-- nome_escola: string (nullable = true)\n",
            " |-- disciplina: string (nullable = true)\n",
            " |-- atividade: string (nullable = true)\n",
            " |-- valor: double (nullable = true)\n",
            " |-- nota: double (nullable = true)\n",
            "\n"
          ]
        }
      ],
      "source": [
        "df = df.withColumn('nota', df['nota'].cast('double'))\n",
        "df = df.withColumn('valor', df['valor'].cast('double'))\n",
        "df = df.withColumn(\"data_nascimento\", to_date(\"data_nascimento\", \"dd/MM/yyyy\"))\n",
        "df = df.withColumn('data_nascimento', df['data_nascimento'].cast('date'))\n",
        "\n",
        "df.printSchema()"
      ]
    }
  ],
  "metadata": {
    "colab": {
      "provenance": []
    },
    "kernelspec": {
      "display_name": "Python 3",
      "name": "python3"
    },
    "language_info": {
      "name": "python"
    }
  },
  "nbformat": 4,
  "nbformat_minor": 0
}