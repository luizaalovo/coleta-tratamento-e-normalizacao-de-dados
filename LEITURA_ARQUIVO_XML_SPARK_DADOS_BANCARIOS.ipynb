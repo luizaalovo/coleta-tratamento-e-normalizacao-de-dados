{
  "cells": [
    {
      "cell_type": "markdown",
      "metadata": {
        "id": "mgYFQBbgKSl6"
      },
      "source": [
        "# INSTALAÇÃO DAS BIBLIOTECAS"
      ]
    },
    {
      "cell_type": "code",
      "execution_count": null,
      "metadata": {
        "id": "l81pd5tZKL6J",
        "colab": {
          "base_uri": "https://localhost:8080/"
        },
        "outputId": "d99af509-a903-433d-f261-75b04d494eec"
      },
      "outputs": [
        {
          "output_type": "stream",
          "name": "stdout",
          "text": [
            "Requirement already satisfied: pyspark in /usr/local/lib/python3.10/dist-packages (3.5.3)\n",
            "Requirement already satisfied: py4j==0.10.9.7 in /usr/local/lib/python3.10/dist-packages (from pyspark) (0.10.9.7)\n"
          ]
        }
      ],
      "source": [
        "%pip install pyspark"
      ]
    },
    {
      "cell_type": "markdown",
      "metadata": {
        "id": "00mcjs8jKVUE"
      },
      "source": [
        "# IMPORTAÇÃO DAS BIBLIOTECAS"
      ]
    },
    {
      "cell_type": "code",
      "execution_count": null,
      "metadata": {
        "id": "r3c8zdt2KT4D"
      },
      "outputs": [],
      "source": [
        "from pyspark.sql import SparkSession\n",
        "from pyspark.sql.functions import to_date\n",
        "import xml.etree.ElementTree as ET"
      ]
    },
    {
      "cell_type": "markdown",
      "metadata": {
        "id": "ijVYWPTkKYFi"
      },
      "source": [
        "# CRIAÇÃO DA APLICAÇÃO SPARK"
      ]
    },
    {
      "cell_type": "code",
      "execution_count": null,
      "metadata": {
        "id": "CUvxyK7wKZOs"
      },
      "outputs": [],
      "source": [
        "spark = SparkSession.builder.getOrCreate()"
      ]
    },
    {
      "cell_type": "markdown",
      "metadata": {
        "id": "tdKgiISKKb1G"
      },
      "source": [
        "# VARIÁVEIS DE APOIO"
      ]
    },
    {
      "cell_type": "code",
      "source": [
        "from google.colab import drive\n",
        "drive.mount('/content/drive')"
      ],
      "metadata": {
        "colab": {
          "base_uri": "https://localhost:8080/"
        },
        "id": "VGW7Z8w54jrY",
        "outputId": "aec9fcbe-d6d1-48a6-886a-d79cccd854d9"
      },
      "execution_count": null,
      "outputs": [
        {
          "output_type": "stream",
          "name": "stdout",
          "text": [
            "Mounted at /content/drive\n"
          ]
        }
      ]
    },
    {
      "cell_type": "code",
      "execution_count": null,
      "metadata": {
        "id": "zVEVji1SKabB"
      },
      "outputs": [],
      "source": [
        "arquivo = '/content/drive/My Drive/ARQ/DADOS_BANCARIOS.xml'"
      ]
    },
    {
      "cell_type": "markdown",
      "metadata": {
        "id": "Mbvt8ObPKhFl"
      },
      "source": [
        "# FUNÇÃO PARA LER ARQUIVO XML"
      ]
    },
    {
      "cell_type": "code",
      "execution_count": null,
      "metadata": {
        "id": "7M5A5ztsKf4h"
      },
      "outputs": [],
      "source": [
        "def ler_xml(arquivo):\n",
        "    tree = ET.parse(arquivo)\n",
        "    root = tree.getroot()\n",
        "    return root"
      ]
    },
    {
      "cell_type": "markdown",
      "metadata": {
        "id": "JNSO7rs34DjZ"
      },
      "source": [
        "# CRIAÇÃO DE LISTA COM O CONTEÚDO DO XML"
      ]
    },
    {
      "cell_type": "code",
      "execution_count": null,
      "metadata": {
        "id": "Eb12c-uhKkKy"
      },
      "outputs": [],
      "source": [
        "root = ler_xml(arquivo)\n",
        "dados_bancarios = []\n",
        "\n",
        "for record in root:\n",
        "  for record_user_info in record.findall('user_info'):\n",
        "    name = record_user_info.find('name').text\n",
        "    address = record_user_info.find('address').text\n",
        "    gender = record_user_info.find('gender').text\n",
        "    account_opening_date = record_user_info.find('account_opening_date').text\n",
        "    customer_type = record_user_info.find('customer_type').text\n",
        "    date_of_birth = record_user_info.find('date_of_birth').text\n",
        "  for record_account_info in record.findall('account_info'):\n",
        "    account_number = record_account_info.find('account_number').text\n",
        "    account_type = record_account_info.find('account_type').text\n",
        "    balance = record_account_info.find('balance').text\n",
        "    currency = record_account_info.find('currency').text\n",
        "    branch = record_account_info.find('branch').text\n",
        "  for record_transaction_info in record.findall('transactions/'):\n",
        "    date = record_transaction_info.find('date').text\n",
        "    description = record_transaction_info.find('description').text\n",
        "    amount = record_transaction_info.find('amount').text\n",
        "    dados_bancarios.append([name, address, gender, account_opening_date, customer_type, date_of_birth, account_number, account_type, balance, currency, branch, date, description, amount])"
      ]
    },
    {
      "cell_type": "markdown",
      "metadata": {
        "id": "HLjQCm4TSIr6"
      },
      "source": [
        "# LEITURA DA LISTA USANDO SPARK"
      ]
    },
    {
      "cell_type": "code",
      "execution_count": null,
      "metadata": {
        "id": "6E7oZMaESI48"
      },
      "outputs": [],
      "source": [
        "df = spark.createDataFrame(dados_bancarios, ['name', 'address', 'gender', 'account_opening_date', 'customer_type', 'date_of_birth', 'account_number', 'account_type', 'balance', 'currency', 'branch', 'date', 'description', 'amount'])"
      ]
    },
    {
      "cell_type": "markdown",
      "metadata": {
        "id": "1hzOeYMtSR5j"
      },
      "source": [
        "# EXIBINDO UMA AMOSTRA DOS DADOS"
      ]
    },
    {
      "cell_type": "code",
      "execution_count": null,
      "metadata": {
        "id": "MUbnKLqwSLOK",
        "colab": {
          "base_uri": "https://localhost:8080/"
        },
        "outputId": "e0553f03-5c63-4224-cf31-70c587c8a909"
      },
      "outputs": [
        {
          "output_type": "stream",
          "name": "stdout",
          "text": [
            "+-----------------+--------------------------------------------------+------+--------------------+-------------+-------------+----------------------+------------+--------+--------+------+----------+----------------------------------------------------+------+\n",
            "|name             |address                                           |gender|account_opening_date|customer_type|date_of_birth|account_number        |account_type|balance |currency|branch|date      |description                                         |amount|\n",
            "+-----------------+--------------------------------------------------+------+--------------------+-------------+-------------+----------------------+------------+--------+--------+------+----------+----------------------------------------------------+------+\n",
            "|Justin Sullivan  |95954 Manuel Viaduct\\nGarciaberg, OK 85968        |Male  |2018-11-07          |Basic        |1946-08-03   |GB78UOLI44528467272790|Savings     |49774.73|LTL     |63    |2022-07-16|Streamlined tangible application                    |894.08|\n",
            "|Jonathan Murphy  |1426 Fuller Ranch\\nWest Ashley, PA 30302          |Female|2021-02-15          |Basic        |1941-12-01   |GB08JCVH24443076049726|Checking    |44986.32|UGX     |89    |2022-08-31|Assimilated cohesive secured line                   |110.36|\n",
            "|Jonathan Murphy  |1426 Fuller Ranch\\nWest Ashley, PA 30302          |Female|2021-02-15          |Basic        |1941-12-01   |GB08JCVH24443076049726|Checking    |44986.32|UGX     |89    |2023-01-16|Multi-channeled disintermediate budgetary management|542.78|\n",
            "|Jonathan Murphy  |1426 Fuller Ranch\\nWest Ashley, PA 30302          |Female|2021-02-15          |Basic        |1941-12-01   |GB08JCVH24443076049726|Checking    |44986.32|UGX     |89    |2023-01-20|Team-oriented motivating analyzer                   |657.94|\n",
            "|Jonathan Murphy  |1426 Fuller Ranch\\nWest Ashley, PA 30302          |Female|2021-02-15          |Basic        |1941-12-01   |GB08JCVH24443076049726|Checking    |44986.32|UGX     |89    |2023-01-17|Devolved bandwidth-monitored secured line           |932.36|\n",
            "|Jonathan Murphy  |1426 Fuller Ranch\\nWest Ashley, PA 30302          |Female|2021-02-15          |Basic        |1941-12-01   |GB08JCVH24443076049726|Checking    |44986.32|UGX     |89    |2023-02-22|Function-based homogeneous moderator                |324.71|\n",
            "|Zachary Alexander|51102 Goodwin Field\\nVincentbury, NE 52692        |Male  |2022-08-10          |Diamond      |1969-02-21   |GB82XVTB43348389064687|Savings     |33574.94|MMK     |40    |2022-11-17|Vision-oriented mission-critical approach           |873.15|\n",
            "|Zachary Alexander|51102 Goodwin Field\\nVincentbury, NE 52692        |Male  |2022-08-10          |Diamond      |1969-02-21   |GB82XVTB43348389064687|Savings     |33574.94|MMK     |40    |2022-11-29|Enterprise-wide systematic flexibility              |585.69|\n",
            "|Zachary Alexander|51102 Goodwin Field\\nVincentbury, NE 52692        |Male  |2022-08-10          |Diamond      |1969-02-21   |GB82XVTB43348389064687|Savings     |33574.94|MMK     |40    |2022-12-11|Balanced coherent utilization                       |682.47|\n",
            "|Zachary Alexander|51102 Goodwin Field\\nVincentbury, NE 52692        |Male  |2022-08-10          |Diamond      |1969-02-21   |GB82XVTB43348389064687|Savings     |33574.94|MMK     |40    |2022-10-29|Customizable leadingedge process improvement        |181.83|\n",
            "|Zachary Alexander|51102 Goodwin Field\\nVincentbury, NE 52692        |Male  |2022-08-10          |Diamond      |1969-02-21   |GB82XVTB43348389064687|Savings     |33574.94|MMK     |40    |2022-11-22|Self-enabling web-enabled focus group               |108.11|\n",
            "|Zachary Alexander|51102 Goodwin Field\\nVincentbury, NE 52692        |Male  |2022-08-10          |Diamond      |1969-02-21   |GB82XVTB43348389064687|Savings     |33574.94|MMK     |40    |2022-08-08|Face-to-face needs-based paradigm                   |923.97|\n",
            "|Zachary Alexander|51102 Goodwin Field\\nVincentbury, NE 52692        |Male  |2022-08-10          |Diamond      |1969-02-21   |GB82XVTB43348389064687|Savings     |33574.94|MMK     |40    |2022-11-11|Function-based optimal success                      |576.63|\n",
            "|Thomas Miller    |382 Koch Tunnel Apt. 410\\nWest Stephanie, MH 58113|Female|2022-01-08          |Exclusive    |1979-06-21   |GB53QYIS85464611514237|Savings     |91835.51|NPR     |14    |2022-12-31|Diverse clear-thinking installation                 |26.71 |\n",
            "|Thomas Miller    |382 Koch Tunnel Apt. 410\\nWest Stephanie, MH 58113|Female|2022-01-08          |Exclusive    |1979-06-21   |GB53QYIS85464611514237|Savings     |91835.51|NPR     |14    |2022-11-17|Up-sized homogeneous matrices                       |772.74|\n",
            "|Thomas Miller    |382 Koch Tunnel Apt. 410\\nWest Stephanie, MH 58113|Female|2022-01-08          |Exclusive    |1979-06-21   |GB53QYIS85464611514237|Savings     |91835.51|NPR     |14    |2022-07-10|Centralized web-enabled approach                    |548.58|\n",
            "|Thomas Miller    |382 Koch Tunnel Apt. 410\\nWest Stephanie, MH 58113|Female|2022-01-08          |Exclusive    |1979-06-21   |GB53QYIS85464611514237|Savings     |91835.51|NPR     |14    |2022-08-17|Configurable solution-oriented instruction set      |507.14|\n",
            "|Thomas Miller    |382 Koch Tunnel Apt. 410\\nWest Stephanie, MH 58113|Female|2022-01-08          |Exclusive    |1979-06-21   |GB53QYIS85464611514237|Savings     |91835.51|NPR     |14    |2022-07-25|Synergized 24/7 encryption                          |880.46|\n",
            "|Thomas Miller    |382 Koch Tunnel Apt. 410\\nWest Stephanie, MH 58113|Female|2022-01-08          |Exclusive    |1979-06-21   |GB53QYIS85464611514237|Savings     |91835.51|NPR     |14    |2022-07-30|Realigned bi-directional migration                  |752.17|\n",
            "|Thomas Miller    |382 Koch Tunnel Apt. 410\\nWest Stephanie, MH 58113|Female|2022-01-08          |Exclusive    |1979-06-21   |GB53QYIS85464611514237|Savings     |91835.51|NPR     |14    |2023-01-23|Customizable real-time help-desk                    |755.50|\n",
            "+-----------------+--------------------------------------------------+------+--------------------+-------------+-------------+----------------------+------------+--------+--------+------+----------+----------------------------------------------------+------+\n",
            "only showing top 20 rows\n",
            "\n"
          ]
        }
      ],
      "source": [
        "df.show(truncate=False)"
      ]
    },
    {
      "cell_type": "markdown",
      "metadata": {
        "id": "wKaguTh_SnJI"
      },
      "source": [
        "# EXIBINDO OS METADADOS (SCHEMA) DO ARQUIVO"
      ]
    },
    {
      "cell_type": "code",
      "execution_count": null,
      "metadata": {
        "id": "wofO5x6NSTIz",
        "colab": {
          "base_uri": "https://localhost:8080/"
        },
        "outputId": "5d50de00-9916-4ed2-c1d4-966720b8e5f7"
      },
      "outputs": [
        {
          "output_type": "stream",
          "name": "stdout",
          "text": [
            "root\n",
            " |-- name: string (nullable = true)\n",
            " |-- address: string (nullable = true)\n",
            " |-- gender: string (nullable = true)\n",
            " |-- account_opening_date: string (nullable = true)\n",
            " |-- customer_type: string (nullable = true)\n",
            " |-- date_of_birth: string (nullable = true)\n",
            " |-- account_number: string (nullable = true)\n",
            " |-- account_type: string (nullable = true)\n",
            " |-- balance: string (nullable = true)\n",
            " |-- currency: string (nullable = true)\n",
            " |-- branch: string (nullable = true)\n",
            " |-- date: string (nullable = true)\n",
            " |-- description: string (nullable = true)\n",
            " |-- amount: string (nullable = true)\n",
            "\n"
          ]
        }
      ],
      "source": [
        "df.printSchema()"
      ]
    },
    {
      "cell_type": "markdown",
      "metadata": {
        "id": "VxyRgMc-SqU4"
      },
      "source": [
        "# AJUSTANDO O SCHEMA DOS DADOS, SE NECESSÁRIO"
      ]
    },
    {
      "cell_type": "code",
      "execution_count": null,
      "metadata": {
        "id": "IWtZZxaISoa7",
        "colab": {
          "base_uri": "https://localhost:8080/"
        },
        "outputId": "8f183098-6e81-464f-90dd-67f161d61b4c"
      },
      "outputs": [
        {
          "output_type": "stream",
          "name": "stdout",
          "text": [
            "root\n",
            " |-- name: string (nullable = true)\n",
            " |-- address: string (nullable = true)\n",
            " |-- gender: string (nullable = true)\n",
            " |-- account_opening_date: date (nullable = true)\n",
            " |-- customer_type: string (nullable = true)\n",
            " |-- date_of_birth: date (nullable = true)\n",
            " |-- account_number: string (nullable = true)\n",
            " |-- account_type: string (nullable = true)\n",
            " |-- balance: string (nullable = true)\n",
            " |-- currency: string (nullable = true)\n",
            " |-- branch: long (nullable = true)\n",
            " |-- date: date (nullable = true)\n",
            " |-- description: string (nullable = true)\n",
            " |-- amount: double (nullable = true)\n",
            " |-- balance : double (nullable = true)\n",
            "\n"
          ]
        }
      ],
      "source": [
        "df = df.withColumn('amount', df['amount'].cast('double'))\n",
        "df = df.withColumn('balance ', df['balance'].cast('double'))\n",
        "df = df.withColumn(\"account_opening_date\", df['account_opening_date'].cast('date'))\n",
        "df = df.withColumn(\"date_of_birth\", df['date_of_birth'].cast('date'))\n",
        "df = df.withColumn(\"date\", df['date'].cast('date'))\n",
        "df = df.withColumn('branch', df['branch'].cast('long'))\n",
        "\n",
        "df.printSchema()"
      ]
    }
  ],
  "metadata": {
    "colab": {
      "provenance": []
    },
    "kernelspec": {
      "display_name": "Python 3",
      "name": "python3"
    },
    "language_info": {
      "name": "python"
    }
  },
  "nbformat": 4,
  "nbformat_minor": 0
}